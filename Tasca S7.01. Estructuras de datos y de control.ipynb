{
 "cells": [
  {
   "cell_type": "markdown",
   "metadata": {},
   "source": [
    "Elaborado por Yatmelis Freites"
   ]
  },
  {
   "cell_type": "markdown",
   "metadata": {},
   "source": [
    "Un cliente de la empresa en la calidad de los trabajos exige una lista de programas muy fáciles, pero que facilita muchos procesos. Sin embargo, el departamento de TU está muy complicado con el tiempo, por la calidad de la cosa y exige que facilites la programación."
   ]
  },
  {
   "cell_type": "markdown",
   "metadata": {},
   "source": [
    "Nivel 1\n",
    "\n",
    "\n",
    "- Ejercicio 1\n",
    "Calculadora del índice de masa corporal\n",
    "\n",
    "Escribe una función que calcula el ingreso de IMC para el usuario, es decir, \n",
    "es decir, quien lo ejecute deberá ingresar estos datos. \n",
    "La función ha de clasificar el resultado en las respectivas categorías."
   ]
  },
  {
   "cell_type": "code",
   "execution_count": 15,
   "metadata": {},
   "outputs": [
    {
     "name": "stdout",
     "output_type": "stream",
     "text": [
      "Tienes obesidad\n"
     ]
    }
   ],
   "source": [
    "pesoUsuario = float(input(\"Indica tu peso (kg): \"))\n",
    "altUsuario = int(input(\"Indica tu altura (cms): \")) / 100 \n",
    "#con pesoUsuario y altUsuario se pide al usuario que ingrese el peso en kilogramos y altura en centímetros, \n",
    "# la cual se divide entre 100 para tener la altura en metros\n",
    "imc = pesoUsuario / (altUsuario ** 2)\n",
    "#con esta fórmula se divide el peso indicado por la altura indicada(al cuadrado)\n",
    "if imc < 18.5:\n",
    "    print(\"Tienes bajo peso\")\n",
    "elif imc < 24.9:\n",
    "    print(\"Tienes un peso normal\")\n",
    "elif imc < 29.9:\n",
    "    print(\"Tienes sobrepeso\")\n",
    "else:\n",
    "    print(\"Tienes obesidad\")\n",
    "#con esta condicional se evalúa que el resultado de la fórmula imc entre dentro de alguno de los rangos, o por descarte en el último"
   ]
  },
  {
   "cell_type": "markdown",
   "metadata": {},
   "source": [
    "- Ejercicio 2\n",
    "Conversor de temperaturas.\n",
    "\n",
    "Existen diversas unidades de temperatura utilizadas en distintos contextos y regiones. Las más comunes son Celsius (°C), Fahrenheit (°F) y Kelvin (K). También existen otras unidades como Rankine (°Ra) y Réaumur (°Re). Selecciona al menos 2 conversores, de modo que al introducir una temperatura devuelva, como mínimo, dos conversiones."
   ]
  },
  {
   "cell_type": "code",
   "execution_count": 4,
   "metadata": {},
   "outputs": [
    {
     "name": "stdout",
     "output_type": "stream",
     "text": [
      "Son 100.40 grados Fahrenheit (ºF)\n",
      "Son 311.15 grados Kelvin (ºK)\n"
     ]
    }
   ],
   "source": [
    "temperatura = float(input(\"Ingresa una temperatura (ºC): \"))\n",
    "#con este input denominado temperatura se pide al usuario que ingrese una temperatura en grados centígrados\n",
    "fahrenheit = (temperatura * 1.8) + 32\n",
    "#para convertir de celcius a farenheit se multiplica la temperatura ingresada por el usuario por 1.8 y luego se le suma una constante de 32\n",
    "kelvin = temperatura + 273.15\n",
    "#para convertir de celcius a kelvin se suma la temperatura ingresada por el usuario a una constante de 273.15\n",
    "\n",
    "print(f\"Son {fahrenheit:.2f} grados Fahrenheit (ºF)\")\n",
    "print(f\"Son {kelvin:.2f} grados Kelvin (ºK)\")\n",
    "#se hace print usando un f string para formatear el string y mostrar un output más conciso al usuario, dentro del placeholder se indica\n",
    "#que se encontrará en ese lugar el resultado de las fórmulas de conversión aplicadas en cada caso, y con el los dos puntos, el numero 2 y la f\n",
    "# :2f se logrará que solo se muestren 2 decimales para que sea más fácil de leer"
   ]
  },
  {
   "cell_type": "markdown",
   "metadata": {},
   "source": [
    "- Ejercicio 3\n",
    "Contador de palabras de un texto.\n",
    "\n",
    "Escribe una función que dado un texto, muestre las veces que aparece cada palabra."
   ]
  },
  {
   "cell_type": "code",
   "execution_count": 16,
   "metadata": {},
   "outputs": [
    {
     "name": "stdout",
     "output_type": "stream",
     "text": [
      "hola: 2\n",
      "caracola: 1\n",
      "rosa: 1\n",
      "lola: 1\n"
     ]
    }
   ],
   "source": [
    "#defino la función denominada conteo que recibirá input del usuario\n",
    "def conteo(txt):\n",
    "    palabras = txt.split() #divide este input en una lista de palabras\n",
    "    contador = {} #crea un diccionario donde la clave es cada palabra contada y como valor el número de veces que aparece en el txt ingresado\n",
    "\n",
    "    for palabra in palabras: #con este bucle se itera sobre la lista de palabras \n",
    "        contador[palabra] = contador.get(palabra, 0) + 1 #obtiene el valor actual de contador para la clave y con .get da la key con valor de 0\n",
    "        # se incrementa 1 en el contador por cada vez que aparezca la palabra a medida de que se va iterando\n",
    "    for palabra, frecuencia in contador.items(): #itera sobre el diccionario creado con el bucle anterior, .items() muestra el par clave-valor\n",
    "        print(f\"{palabra}: {frecuencia}\") \n",
    "#se hace print usando un f string para formatear el string y mostrar un output más conciso al usuario, dentro de los placeholders se indican \n",
    "#la palabra y la frecuencia\n",
    "intro = input(\"Ingresa un texto: \") #pide al usuario el texto a procesar como argumento para el código\n",
    "conteo(intro) #llama a la función conteo\n",
    "\n"
   ]
  },
  {
   "cell_type": "markdown",
   "metadata": {},
   "source": [
    "- Ejercicio 4\n",
    "Diccionario inverso.\n",
    "\n",
    "Resulta que el cliente tiene una encuesta muy antigua que se almacena en un diccionario y los resultados los necesita a la inversa, es decir, intercambiados las claves y valores. Los valores y claves en el diccionario original son únicos; si éste no es el caso, la función debería imprimir un mensaje de advertencia."
   ]
  },
  {
   "cell_type": "code",
   "execution_count": 12,
   "metadata": {},
   "outputs": [
    {
     "name": "stdout",
     "output_type": "stream",
     "text": [
      "{'rojo': 'color', 'circular': 'forma', 'medio metroo': 'altura'}\n"
     ]
    }
   ],
   "source": [
    "#defino la función denominada reverse_dictionary que recibirá input del usuario\n",
    "def reverse_dictionary():\n",
    "    dictionary = {} #crea un diccionario\n",
    "    used_values = set() #crea un set\n",
    "    #se crea un bucle While que evaluará si la condición es verdadera\n",
    "    while True:\n",
    "        key = input(\"Ingresa una clave (o presiona Enter para terminar): \")\n",
    "        if not key:\n",
    "            break #si no se ingresa algún input, se deja de iterar y pedir claves al usuario y se continúa con el código\n",
    "         \n",
    "        value = input(f\"Ingresa el valor para la clave '{key}': \")\n",
    "        # se pide como input el valor para la clave pedida con anterioridad, con un f-string se formatea para que se muestre\n",
    "        #de manera customizada el string con la key proporcionada anteriormente por el usuario\n",
    "        if value in dictionary.values(): #se itera para evaluar los valores que se han proporcionado para el diccionario\n",
    "            print(\"Advertencia: Múltiples claves para un valor.\") #se muestra este mensaje en caso de que se repita algún valor\n",
    "            #ya que como se convertirá el valor a key, y solo puede aparecer una key de manera única, se interrumpe la ejecución\n",
    "            continue #continua el código\n",
    "\n",
    "        dictionary[value] = key #en caso de que se cumpla con los parámetros establecidos, se agrega el par clave-valor al diccionario\n",
    "\n",
    "    return dictionary #devuelve el diccionario \n",
    "\n",
    "results = reverse_dictionary() #llama a la funcion reverse_dictionary\n",
    "print(results) #imprime esta llamada de la funcion\n"
   ]
  }
 ],
 "metadata": {
  "kernelspec": {
   "display_name": "Python 3",
   "language": "python",
   "name": "python3"
  },
  "language_info": {
   "codemirror_mode": {
    "name": "ipython",
    "version": 3
   },
   "file_extension": ".py",
   "mimetype": "text/x-python",
   "name": "python",
   "nbconvert_exporter": "python",
   "pygments_lexer": "ipython3",
   "version": "3.12.4"
  }
 },
 "nbformat": 4,
 "nbformat_minor": 2
}
