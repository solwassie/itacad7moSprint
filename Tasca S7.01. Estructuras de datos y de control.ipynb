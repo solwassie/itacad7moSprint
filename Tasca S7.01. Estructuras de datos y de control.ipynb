{
 "cells": [
  {
   "cell_type": "markdown",
   "metadata": {},
   "source": [
    "Elaborado por Yatmelis Freites"
   ]
  },
  {
   "cell_type": "markdown",
   "metadata": {},
   "source": [
    "Un cliente de la empresa en la calidad de los trabajos exige una lista de programas muy fáciles, pero que facilita muchos procesos. Sin embargo, el departamento de TU está muy complicado con el tiempo, por la calidad de la cosa y exige que facilites la programación."
   ]
  },
  {
   "cell_type": "markdown",
   "metadata": {},
   "source": [
    "Nivel 1\n",
    "\n",
    "\n",
    "- Ejercicio 1\n",
    "Calculadora del índice de masa corporal\n",
    "\n",
    "Escribe una función que calcula el ingreso de IMC para el usuario, \n",
    "es decir, quien lo ejecute deberá ingresar estos datos. \n",
    "La función ha de clasificar el resultado en las respectivas categorías.\n",
    "\n",
    "Se hizo una corrección creando otra función para determinar qué datos pueden corresponder con la realidad del peso y altura de un humano"
   ]
  },
  {
   "cell_type": "code",
   "execution_count": 6,
   "metadata": {},
   "outputs": [
    {
     "name": "stdout",
     "output_type": "stream",
     "text": [
      "Tu IMC es 24.22. Tienes  un peso normal :)\n"
     ]
    }
   ],
   "source": [
    "def datospermitidos():\n",
    "    while True:\n",
    "        peso = float(input(\"Indica tu peso (kg): \"))\n",
    "        \n",
    "        if peso < 40 or peso > 400:\n",
    "            print(f\"Advertencia: Peso no válido '{peso}'. Debe estar entre 40 kg y 400 kg.\")\n",
    "            continue  \n",
    "        \n",
    "        altura_cm = int(input(\"Indica tu altura (cms): \"))\n",
    "        if altura_cm < 100 or altura_cm > 250:\n",
    "            print(f\"Advertencia: Altura no válida '{altura_cm}'. Debe estar entre 100 cm y 250 cm.\")\n",
    "            continue  \n",
    "        \n",
    "        break\n",
    "    # Retornar los datos validados\n",
    "    return peso, altura_cm\n",
    "\n",
    "\n",
    "# Función para calcular el IMC\n",
    "def calcular_imc():\n",
    "    peso, altura_cm = datospermitidos()\n",
    "    altura_m = altura_cm / 100  # Convertir la altura de centímetros a metros\n",
    "    imc = peso / (altura_m ** 2)  # Calcular el IMC\n",
    "    \n",
    "    # Determinar la categoría según el IMC\n",
    "    if imc < 18.5:\n",
    "        categoria = \"bajo peso :(\"\n",
    "    elif imc < 24.9:\n",
    "        categoria = \"un peso normal :)\"\n",
    "    elif imc < 29.9:\n",
    "        categoria = \"sobrepeso >:(\"\n",
    "    else:\n",
    "        categoria = \"obesidad. :'(\"\n",
    "    \n",
    "    # Devolver el IMC calculado y su categoría\n",
    "    return f\"Tu IMC es {imc:.2f}. Tienes {categoria}\"\n",
    "\n",
    "# Calcular y mostrar el IMC usando los datos validados\n",
    "resultado = calcular_imc()\n",
    "print(resultado)"
   ]
  },
  {
   "cell_type": "markdown",
   "metadata": {},
   "source": [
    "- Ejercicio 2\n",
    "Conversor de temperaturas.\n",
    "\n",
    "Existen diversas unidades de temperatura utilizadas en distintos contextos y regiones. Las más comunes son Celsius (°C), Fahrenheit (°F) y Kelvin (K). También existen otras unidades como Rankine (°Ra) y Réaumur (°Re). Selecciona al menos 2 conversores, de modo que al introducir una temperatura devuelva, como mínimo, dos conversiones.\n",
    "\n",
    "Se corrige el bucle inicial para generar funciones sencillas para cada temperatura"
   ]
  },
  {
   "cell_type": "code",
   "execution_count": 12,
   "metadata": {},
   "outputs": [
    {
     "name": "stdout",
     "output_type": "stream",
     "text": [
      "Son 212.00 grados Fahrenheit (ºF)\n",
      "Son 373.15 grados Kelvin (ºK)\n"
     ]
    }
   ],
   "source": [
    "temperatura = float(input(\"Ingresa una temperatura (ºC): \"))\n",
    "\n",
    "def tempf(temperatura):\n",
    "    fahrenheit = (temperatura * 1.8) + 32\n",
    "    return fahrenheit\n",
    "\n",
    "def tempk(temperatura):\n",
    "    kelvin = temperatura + 273.15\n",
    "    return kelvin\n",
    "\n",
    "fahrenheit = tempf(temperatura)\n",
    "kelvin = tempk(temperatura)\n",
    "\n",
    "# Imprimir los resultados\n",
    "print(f\"Son {fahrenheit:.2f} grados Fahrenheit (ºF)\")\n",
    "print(f\"Son {kelvin:.2f} grados Kelvin (ºK)\")\n"
   ]
  },
  {
   "cell_type": "markdown",
   "metadata": {},
   "source": [
    "- Ejercicio 3\n",
    "Contador de palabras de un texto.\n",
    "\n",
    "Escribe una función que dado un texto, muestre las veces que aparece cada palabra."
   ]
  },
  {
   "cell_type": "code",
   "execution_count": 15,
   "metadata": {},
   "outputs": [
    {
     "name": "stdout",
     "output_type": "stream",
     "text": [
      "tú: 8\n",
      "me: 9\n",
      "quieres: 6\n",
      "alba: 4\n",
      "de: 8\n",
      "espumas: 1\n",
      "nácar: 1\n",
      "que: 6\n",
      "sea: 1\n",
      "azucena: 1\n",
      "sobre: 2\n",
      "todas: 2\n",
      "casta: 3\n",
      "perfume: 1\n",
      "tenue: 1\n",
      "corola: 1\n",
      "cerrada: 1\n",
      "ni: 2\n",
      "un: 1\n",
      "rayo: 1\n",
      "luna: 1\n",
      "filtrado: 1\n",
      "haya: 1\n",
      "una: 1\n",
      "margarita: 1\n",
      "se: 2\n",
      "diga: 1\n",
      "mi: 1\n",
      "hermana: 1\n",
      "nívea: 2\n",
      "blanca: 3\n",
      "hubiste: 1\n",
      "las: 7\n",
      "copas: 1\n",
      "a: 3\n",
      "mano: 1\n",
      "frutos: 1\n",
      "y: 5\n",
      "mieles: 1\n",
      "los: 4\n",
      "labios: 1\n",
      "morados: 1\n",
      "en: 4\n",
      "el: 4\n",
      "banquete: 1\n",
      "cubierto: 1\n",
      "pámpanos: 1\n",
      "dejaste: 1\n",
      "carnes: 2\n",
      "festejando: 1\n",
      "baco: 1\n",
      "jardines: 1\n",
      "negros: 1\n",
      "del: 1\n",
      "engaño: 1\n",
      "vestido: 1\n",
      "rojo: 1\n",
      "corriste: 1\n",
      "al: 2\n",
      "estrago: 1\n",
      "esqueleto: 1\n",
      "conservas: 1\n",
      "intacto: 1\n",
      "no: 1\n",
      "sé: 1\n",
      "todavía: 1\n",
      "por: 2\n",
      "cuáles: 1\n",
      "milagros: 1\n",
      "pretendes: 3\n",
      "dios: 2\n",
      "te: 3\n",
      "lo: 2\n",
      "perdone: 2\n",
      "¡me: 1\n",
      "huye: 1\n",
      "hacia: 1\n",
      "bosques: 1\n",
      "vete: 1\n",
      "la: 3\n",
      "montaña: 1\n",
      "límpiate: 1\n",
      "boca: 1\n",
      "vive: 1\n",
      "cabañas: 1\n",
      "toca: 1\n",
      "con: 4\n",
      "manos: 1\n",
      "tierra: 1\n",
      "mojada: 1\n",
      "alimenta: 1\n",
      "cuerpo: 1\n",
      "raíz: 1\n",
      "amarga: 1\n",
      "bebe: 1\n",
      "rocas: 1\n",
      "duerme: 1\n",
      "escarcha: 1\n",
      "renueva: 1\n",
      "tejidos: 1\n",
      "salitre: 1\n",
      "agua: 1\n",
      "habla: 1\n",
      "pájaros: 1\n",
      "lévate: 1\n",
      "cuando: 2\n",
      "sean: 1\n",
      "tornadas: 1\n",
      "hayas: 1\n",
      "puesto: 1\n",
      "ellas: 1\n",
      "alma: 1\n",
      "alcobas: 1\n",
      "quedó: 1\n",
      "enredada: 1\n",
      "entonces: 1\n",
      "buen: 1\n",
      "hombre: 1\n",
      "preténdeme: 3\n"
     ]
    }
   ],
   "source": [
    "def limpiar(txt):\n",
    "    txt = txt.lower()\n",
    "    puntuacion = \".,!?;:()\"\n",
    "    for signo in puntuacion:\n",
    "        txt = txt.replace(signo, \"\")\n",
    "    return txt\n",
    "\n",
    "def conteo(txt):\n",
    "    txt = limpiar(txt)\n",
    "    palabras = txt.split() #divide este input en una lista de palabras\n",
    "    contador = {} #crea un diccionario donde la clave es cada palabra contada y como valor el número de veces que aparece en el txt ingresado\n",
    "\n",
    "    for palabra in palabras: #con este bucle se itera sobre la lista de palabras \n",
    "        contador[palabra] = contador.get(palabra, 0) + 1 \n",
    "    for palabra, frecuencia in contador.items(): \n",
    "        print(f\"{palabra}: {frecuencia}\") \n",
    "\n",
    "intro = input(\"Ingresa un texto: \") #pide al usuario el texto a procesar como argumento para el código\n",
    "conteo(intro) #llama a la función conteo\n",
    "\n"
   ]
  },
  {
   "cell_type": "markdown",
   "metadata": {},
   "source": [
    "- Ejercicio 4\n",
    "Diccionario inverso.\n",
    "\n",
    "Resulta que el cliente tiene una encuesta muy antigua que se almacena en un diccionario y los resultados los necesita a la inversa, es decir, intercambiados las claves y valores. Los valores y claves en el diccionario original son únicos; si éste no es el caso, la función debería imprimir un mensaje de advertencia."
   ]
  },
  {
   "cell_type": "code",
   "execution_count": 16,
   "metadata": {},
   "outputs": [
    {
     "name": "stdout",
     "output_type": "stream",
     "text": [
      "Advertencia: Múltiples claves para el valor 'caracola'.\n",
      "{'caracola': 'hola', 'uyo': 'r'}\n"
     ]
    }
   ],
   "source": [
    "#defino la función denominada reverse_dictionary que recibirá input del usuario\n",
    "def reverse_dictionary():\n",
    "    dictionary = {} #crea un diccionario\n",
    "    while True:\n",
    "        key = input(\"Ingresa una clave (o presiona Enter para terminar): \")\n",
    "        if not key:\n",
    "            break #si no se ingresa algún input, se deja de iterar y pedir claves al usuario y se continúa con el código\n",
    "         \n",
    "        value = input(f\"Ingresa el valor para la clave '{key}': \")\n",
    "        \n",
    "        if value in dictionary:\n",
    "            print(f\"Advertencia: Múltiples claves para el valor '{value}'.\") #se muestra este mensaje en caso de que se repita algún valor\n",
    "            continue #continua el código\n",
    "        dictionary[value] = key #en caso de que se cumpla con los parámetros establecidos, se agrega el par clave-valor al diccionario\n",
    "    return dictionary\n",
    "\n",
    "results = reverse_dictionary()\n",
    "print(results)\n"
   ]
  }
 ],
 "metadata": {
  "kernelspec": {
   "display_name": "Python 3",
   "language": "python",
   "name": "python3"
  },
  "language_info": {
   "codemirror_mode": {
    "name": "ipython",
    "version": 3
   },
   "file_extension": ".py",
   "mimetype": "text/x-python",
   "name": "python",
   "nbconvert_exporter": "python",
   "pygments_lexer": "ipython3",
   "version": "3.12.4"
  }
 },
 "nbformat": 4,
 "nbformat_minor": 2
}
